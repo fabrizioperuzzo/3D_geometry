{
 "cells": [
  {
   "cell_type": "code",
   "execution_count": 18,
   "metadata": {},
   "outputs": [
    {
     "name": "stdout",
     "output_type": "stream",
     "text": [
      "Centre = ( 43.1643539627345 ,  -20.92550877722324 )\n",
      "Radius =  3.17663\n"
     ]
    }
   ],
   "source": [
    "# Python3 implementation of the approach  \n",
    "from math import sqrt \n",
    "  \n",
    "# Function to find the circle on  \n",
    "# which the given three points lie  \n",
    "def findCircle(x1, y1, x2, y2, x3, y3) : \n",
    "    x12 = x1 - x2;  \n",
    "    x13 = x1 - x3;  \n",
    "  \n",
    "    y12 = y1 - y2;  \n",
    "    y13 = y1 - y3;  \n",
    "  \n",
    "    y31 = y3 - y1;  \n",
    "    y21 = y2 - y1;  \n",
    "  \n",
    "    x31 = x3 - x1;  \n",
    "    x21 = x2 - x1;  \n",
    "  \n",
    "    # x1^2 - x3^2  \n",
    "    sx13 = pow(x1, 2) - pow(x3, 2);  \n",
    "  \n",
    "    # y1^2 - y3^2  \n",
    "    sy13 = pow(y1, 2) - pow(y3, 2);  \n",
    "  \n",
    "    sx21 = pow(x2, 2) - pow(x1, 2);  \n",
    "    sy21 = pow(y2, 2) - pow(y1, 2);  \n",
    "  \n",
    "    f = (((sx13) * (x12) + (sy13) * \n",
    "          (x12) + (sx21) * (x13) + \n",
    "          (sy21) * (x13)) / (2 * \n",
    "          ((y31) * (x12) - (y21) * (x13)))); \n",
    "              \n",
    "    g = (((sx13) * (y12) + (sy13) * (y12) + \n",
    "          (sx21) * (y13) + (sy21) * (y13)) / \n",
    "          (2 * ((x31) * (y12) - (x21) * (y13))));  \n",
    "  \n",
    "    c = (-pow(x1, 2) - pow(y1, 2) - \n",
    "         2 * g * x1 - 2 * f * y1);  \n",
    "  \n",
    "    # eqn of circle be x^2 + y^2 + 2*g*x + 2*f*y + c = 0  \n",
    "    # where centre is (h = -g, k = -f) and  \n",
    "    # radius r as r^2 = h^2 + k^2 - c  \n",
    "    h = -g;  \n",
    "    k = -f;  \n",
    "    sqr_of_r = h * h + k * k - c;  \n",
    "  \n",
    "    # r is the radius  \n",
    "    r = round(sqrt(sqr_of_r), 5);  \n",
    "  \n",
    "    print(\"Centre = (\", h, \", \", k, \")\");  \n",
    "    print(\"Radius = \", r);  \n",
    "  \n",
    "# Driver code  \n",
    "if __name__ == \"__main__\" :  \n",
    "      \n",
    "    x1 = 42.79 ; y1 = -24.08 \n",
    "    x2 = 40.01 ; y2 = -20.55 \n",
    "    x3 = 46.32 ; y3 = -21.29  \n",
    "    findCircle(x1, y1, x2, y2, x3, y3);  \n",
    "  \n",
    "# This code is contributed by Ryuga "
   ]
  },
  {
   "cell_type": "code",
   "execution_count": 13,
   "metadata": {},
   "outputs": [
    {
     "data": {
      "text/plain": [
       "3.0"
      ]
     },
     "execution_count": 13,
     "metadata": {},
     "output_type": "execute_result"
    }
   ],
   "source": [
    "15/5"
   ]
  }
 ],
 "metadata": {
  "kernelspec": {
   "display_name": "Python 3",
   "language": "python",
   "name": "python3"
  },
  "language_info": {
   "codemirror_mode": {
    "name": "ipython",
    "version": 3
   },
   "file_extension": ".py",
   "mimetype": "text/x-python",
   "name": "python",
   "nbconvert_exporter": "python",
   "pygments_lexer": "ipython3",
   "version": "3.6.9"
  }
 },
 "nbformat": 4,
 "nbformat_minor": 2
}
