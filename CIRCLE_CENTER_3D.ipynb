{
 "cells": [
  {
   "cell_type": "markdown",
   "metadata": {},
   "source": [
    "### CALCULATE THE CENTER OF A 3D CIRCLE FROM 3 COORDINATE"
   ]
  },
  {
   "cell_type": "code",
   "execution_count": 1,
   "metadata": {},
   "outputs": [],
   "source": [
    "import numpy as np"
   ]
  },
  {
   "cell_type": "code",
   "execution_count": 100,
   "metadata": {},
   "outputs": [],
   "source": [
    "# Define the 3 point of a vector\n",
    "\n",
    "vA = np.array([-21.35,35.84,-20.61])\n",
    "vB = np.array([-20.24,33.09,-24.09])\n",
    "vC = np.array([-17.07,31.19,-20.29])"
   ]
  },
  {
   "cell_type": "code",
   "execution_count": 3,
   "metadata": {},
   "outputs": [
    {
     "data": {
      "text/plain": [
       "array([-0.71632544, -0.64023423,  0.27744911])"
      ]
     },
     "execution_count": 3,
     "metadata": {},
     "output_type": "execute_result"
    }
   ],
   "source": [
    "# Find the normal vector to the plane  of the 3 points\n",
    "\n",
    "n_ = np.cross(vA,vB)+np.cross(vB,vC)+np.cross(vC,vA)\n",
    "\n",
    "# Calculate th unit vector of it\n",
    "\n",
    "n = n_ / np.linalg.norm(n_)\n",
    "\n",
    "n"
   ]
  },
  {
   "cell_type": "code",
   "execution_count": 4,
   "metadata": {},
   "outputs": [],
   "source": [
    "# Calculate mutually ortogonal directions\n",
    "\n",
    "u_ = np.cross((vC-vA),n)     #projection \n",
    "\n",
    "u = u_ / np.linalg.norm(u_)  #unit vector x*\n",
    " \n",
    "v = np.cross(n,u)            #unit vector y*"
   ]
  },
  {
   "cell_type": "code",
   "execution_count": 5,
   "metadata": {},
   "outputs": [
    {
     "data": {
      "text/plain": [
       "array([[-0.17150241, -0.22387979, -0.95940855],\n",
       "       [ 0.67636144, -0.73483194,  0.05056908]])"
      ]
     },
     "execution_count": 5,
     "metadata": {},
     "output_type": "execute_result"
    }
   ],
   "source": [
    "# Construct the rotation matrix\n",
    "\n",
    "R = np.array([u,v])\n",
    "\n",
    "R"
   ]
  },
  {
   "cell_type": "code",
   "execution_count": 6,
   "metadata": {},
   "outputs": [
    {
     "data": {
      "text/plain": [
       "-13.370672675357042"
      ]
     },
     "execution_count": 6,
     "metadata": {},
     "output_type": "execute_result"
    }
   ],
   "source": [
    "# Calculate the distance of the plane ABC from the origin\n",
    "\n",
    "d = np.dot(n,vA)\n",
    "d"
   ]
  },
  {
   "cell_type": "code",
   "execution_count": 7,
   "metadata": {},
   "outputs": [
    {
     "data": {
      "text/plain": [
       "(array([ 15.41113477, -41.818922  ]),\n",
       " array([ 19.17517828, -39.22335338]),\n",
       " array([ 15.41113477, -35.49094444]))"
      ]
     },
     "execution_count": 7,
     "metadata": {},
     "output_type": "execute_result"
    }
   ],
   "source": [
    "# Convert coordinate from 3D to 2D\n",
    "\n",
    "va = np.dot(R,vA)\n",
    "vb = np.dot(R,vB)\n",
    "vc = np.dot(R,vC)\n",
    "\n",
    "va,vb,vc"
   ]
  },
  {
   "cell_type": "code",
   "execution_count": 8,
   "metadata": {},
   "outputs": [
    {
     "data": {
      "text/plain": [
       "array([[3.76404351e+00, 2.59556862e+00],\n",
       "       [1.77635684e-15, 6.32797756e+00]])"
      ]
     },
     "execution_count": 8,
     "metadata": {},
     "output_type": "execute_result"
    }
   ],
   "source": [
    "# solve the system of equations to find the center\n",
    "\n",
    "array1 = np.array([[(vb[0])-(va[0]),(vb[1])-(va[1])],[(vc[0])-(va[0]),(vc[1])-(va[1])]])\n",
    "array1"
   ]
  },
  {
   "cell_type": "code",
   "execution_count": 9,
   "metadata": {},
   "outputs": [
    {
     "data": {
      "text/plain": [
       "array([[ -40.0832 ],\n",
       "       [-244.60755]])"
      ]
     },
     "execution_count": 9,
     "metadata": {},
     "output_type": "execute_result"
    }
   ],
   "source": [
    "array2 = np.array([[((vb[0]**2+vb[1]**2)-(va[0]**2+va[1]**2))/2],[((vc[0]**2+vc[1]**2)-(va[0]**2+va[1]**2))/2]])\n",
    "array2"
   ]
  },
  {
   "cell_type": "code",
   "execution_count": 10,
   "metadata": {},
   "outputs": [
    {
     "data": {
      "text/plain": [
       "array([[ 16.00627933],\n",
       "       [-38.65493322]])"
      ]
     },
     "execution_count": 10,
     "metadata": {},
     "output_type": "execute_result"
    }
   ],
   "source": [
    "# solve the sistem of equations to find the 2D coordinate of the center\n",
    "\n",
    "ccoo = np.dot(array2.transpose(),np.linalg.inv(array1.transpose())).transpose()\n",
    "ccoo"
   ]
  },
  {
   "cell_type": "code",
   "execution_count": 17,
   "metadata": {},
   "outputs": [
    {
     "data": {
      "text/plain": [
       "array([[-19.312,  33.382, -21.021]])"
      ]
     },
     "execution_count": 17,
     "metadata": {},
     "output_type": "execute_result"
    }
   ],
   "source": [
    "# calculate the 3D coordinate of the center   *******************************\n",
    "\n",
    "cc3d = np.dot(n,d).transpose()+np.dot(R.transpose(),ccoo).transpose()\n",
    "np.round(cc3d,3)\n",
    "\n",
    "#  the final coordinate of the centre are:"
   ]
  },
  {
   "cell_type": "code",
   "execution_count": 18,
   "metadata": {},
   "outputs": [
    {
     "data": {
      "text/plain": [
       "3.219475429620807"
      ]
     },
     "execution_count": 18,
     "metadata": {},
     "output_type": "execute_result"
    }
   ],
   "source": [
    "# Calculate the radius\n",
    "\n",
    "r = np.linalg.norm(vA-cc3d)\n",
    "r"
   ]
  },
  {
   "cell_type": "code",
   "execution_count": null,
   "metadata": {},
   "outputs": [],
   "source": []
  },
  {
   "cell_type": "markdown",
   "metadata": {},
   "source": [
    "####  We find the same result but with a 3d rotation matrix R3d"
   ]
  },
  {
   "cell_type": "code",
   "execution_count": 77,
   "metadata": {},
   "outputs": [
    {
     "data": {
      "text/plain": [
       "array([ 16.00627933, -38.65493322,   0.        ])"
      ]
     },
     "execution_count": 77,
     "metadata": {},
     "output_type": "execute_result"
    }
   ],
   "source": [
    "R3d = np.array([u,v,n])   # is the rotation array with z coordinate\n",
    "ccoo_ = np.append(ccoo,0)\n",
    "ccoo_"
   ]
  },
  {
   "cell_type": "code",
   "execution_count": 80,
   "metadata": {},
   "outputs": [
    {
     "data": {
      "text/plain": [
       "array([-19.312,  33.382, -21.021])"
      ]
     },
     "execution_count": 80,
     "metadata": {},
     "output_type": "execute_result"
    }
   ],
   "source": [
    "cc3d_ = np.dot(n,d).transpose()+np.dot(R3d.transpose(),ccoo_).transpose()\n",
    "np.round(cc3d_,3)\n",
    "# the result is the same"
   ]
  },
  {
   "cell_type": "markdown",
   "metadata": {},
   "source": [
    "### WE NOW CREATE A CYLINDER"
   ]
  },
  {
   "cell_type": "markdown",
   "metadata": {},
   "source": [
    "#####  1 method we create a cylinder perpendicular to the face"
   ]
  },
  {
   "cell_type": "code",
   "execution_count": 98,
   "metadata": {},
   "outputs": [
    {
     "data": {
      "text/plain": [
       "(array([ 16.00627933, -38.65493322,   0.25      ]),\n",
       " array([ 16.00627933, -38.65493322,  -0.25      ]))"
      ]
     },
     "execution_count": 98,
     "metadata": {},
     "output_type": "execute_result"
    }
   ],
   "source": [
    "# WE ADD and SUBTRACT TO THE CENTRE 0.1m to create a cylinder (first we do it in the ficticious plane)\n",
    "\n",
    "ccoo1 = ccoo_.copy()  # use copy to avoid modification to the original array ccoo_\n",
    "ccoo1[2] = 0.25\n",
    "ccoo2 = ccoo_.copy()\n",
    "ccoo2[2] = -0.25\n",
    "ccoo1,ccoo2"
   ]
  },
  {
   "cell_type": "code",
   "execution_count": 83,
   "metadata": {},
   "outputs": [],
   "source": [
    "###  Create the 3d coordinate of the two center"
   ]
  },
  {
   "cell_type": "code",
   "execution_count": 99,
   "metadata": {},
   "outputs": [
    {
     "data": {
      "text/plain": [
       "(array([-19.49,  33.22, -20.95]), array([-19.13,  33.54, -21.09]))"
      ]
     },
     "execution_count": 99,
     "metadata": {},
     "output_type": "execute_result"
    }
   ],
   "source": [
    "cc3d1 = np.dot(n,d).transpose()+np.dot(R3d.transpose(),ccoo1).transpose()\n",
    "cc3d2 = np.dot(n,d).transpose()+np.dot(R3d.transpose(),ccoo2).transpose()\n",
    "np.round(cc3d1,2),np.round(cc3d2,2)"
   ]
  },
  {
   "cell_type": "markdown",
   "metadata": {},
   "source": [
    "##### 2 method create a cylinder along a direction (use two point along the lateral face)"
   ]
  },
  {
   "cell_type": "code",
   "execution_count": 85,
   "metadata": {},
   "outputs": [
    {
     "data": {
      "text/plain": [
       "array([-2.7 , -1.85,  0.  ])"
      ]
     },
     "execution_count": 85,
     "metadata": {},
     "output_type": "execute_result"
    }
   ],
   "source": [
    "p1 = np.array([-17.68,31,-22.19])\n",
    "p2 = np.array([-14.98,32.85,-22.07])\n",
    "p_ = p1-p2\n",
    "p_[2]=0\n",
    "p_"
   ]
  },
  {
   "cell_type": "code",
   "execution_count": 86,
   "metadata": {},
   "outputs": [
    {
     "data": {
      "text/plain": [
       "array([-0.82493237, -0.56523144,  0.        ])"
      ]
     },
     "execution_count": 86,
     "metadata": {},
     "output_type": "execute_result"
    }
   ],
   "source": [
    "p = p_/np.linalg.norm(p_)\n",
    "p"
   ]
  },
  {
   "cell_type": "code",
   "execution_count": 89,
   "metadata": {},
   "outputs": [
    {
     "data": {
      "text/plain": [
       "(array([-20.14,  32.82, -21.02]), array([-18.49,  33.95, -21.02]))"
      ]
     },
     "execution_count": 89,
     "metadata": {},
     "output_type": "execute_result"
    }
   ],
   "source": [
    "cc3d1 = cc3d_ + p*1\n",
    "cc3d2 = cc3d_ + p*(-1)\n",
    "np.round(cc3d1,2),np.round(cc3d2,2)"
   ]
  },
  {
   "cell_type": "markdown",
   "metadata": {},
   "source": [
    "##### 3 method use the normal vector projected on the orizontal plane"
   ]
  },
  {
   "cell_type": "code",
   "execution_count": 93,
   "metadata": {},
   "outputs": [],
   "source": [
    "## Oppure usa le coordinate normali al piano ma proiettale sul piano hz ovvero forza la z=0\n",
    "\n",
    "n_hz = n_.copy()\n",
    "n_hz[2]=0"
   ]
  },
  {
   "cell_type": "code",
   "execution_count": 94,
   "metadata": {},
   "outputs": [
    {
     "data": {
      "text/plain": [
       "array([-0.74559734, -0.66639674,  0.        ])"
      ]
     },
     "execution_count": 94,
     "metadata": {},
     "output_type": "execute_result"
    }
   ],
   "source": [
    "n_hz_norm = n_hz/np.linalg.norm(n_hz)\n",
    "n_hz_norm"
   ]
  },
  {
   "cell_type": "code",
   "execution_count": 95,
   "metadata": {},
   "outputs": [
    {
     "data": {
      "text/plain": [
       "(array([-19.68,  33.05, -21.02]), array([-18.94,  33.71, -21.02]))"
      ]
     },
     "execution_count": 95,
     "metadata": {},
     "output_type": "execute_result"
    }
   ],
   "source": [
    "cc3d1 = cc3d_ + n_hz_norm*0.5  # use copy to avoid modification to the original array ccoo_\n",
    "cc3d2 = cc3d_ + n_hz_norm*(-0.5)\n",
    "np.round(cc3d1,2),np.round(cc3d2,2)"
   ]
  },
  {
   "cell_type": "markdown",
   "metadata": {},
   "source": [
    "## CREATE A FUNCTION"
   ]
  },
  {
   "cell_type": "code",
   "execution_count": 102,
   "metadata": {},
   "outputs": [],
   "source": [
    "def calc_center (vA,vB,vC):\n",
    "    \n",
    "    # Find the normal vector to the plane  of the 3 points\n",
    "    n_ = np.cross(vA,vB)+np.cross(vB,vC)+np.cross(vC,vA)\n",
    "\n",
    "    # Calculate the unit vector of it\n",
    "    n = n_ / np.linalg.norm(n_)\n",
    "    \n",
    "    # Calculate mutually ortogonal directions\n",
    "    u_ = np.cross((vC-vA),n)     #projection \n",
    "    u = u_ / np.linalg.norm(u_)  #unit vector x* \n",
    "    v = np.cross(n,u)            #unit vector y*\n",
    "    \n",
    "    # Construct the rotation matrix\n",
    "    R = np.array([u,v])\n",
    "    \n",
    "    # Calculate the distance of the plane ABC from the origin\n",
    "    d = np.dot(n,vA)\n",
    "    \n",
    "    # Convert coordinate from 3D to 2D\n",
    "    va = np.dot(R,vA)\n",
    "    vb = np.dot(R,vB)\n",
    "    vc = np.dot(R,vC)\n",
    "    \n",
    "    # solve the system of equations to find the center\n",
    "    array1 = np.array([[(vb[0])-(va[0]),(vb[1])-(va[1])],[(vc[0])-(va[0]),(vc[1])-(va[1])]])\n",
    "    array2 = np.array([[((vb[0]**2+vb[1]**2)-(va[0]**2+va[1]**2))/2],[((vc[0]**2+vc[1]**2)-(va[0]**2+va[1]**2))/2]])\n",
    "    ccoo = np.dot(array2.transpose(),np.linalg.inv(array1.transpose())).transpose()\n",
    "\n",
    "    # calculate the 3D coordinate of the center   *******************************\n",
    "    cc3d = np.dot(n,d).transpose()+np.dot(R.transpose(),ccoo).transpose()\n",
    "    np.round(cc3d,3)\n",
    "\n",
    "    # Calculate the radius\n",
    "    r = np.linalg.norm(vA-cc3d)\n",
    "    \n",
    "    \n",
    "    return np.round(cc3d,3),r"
   ]
  },
  {
   "cell_type": "code",
   "execution_count": 104,
   "metadata": {},
   "outputs": [
    {
     "data": {
      "text/plain": [
       "(array([[-22.779,  43.159, -20.97 ]]), 3.1778108310166124)"
      ]
     },
     "execution_count": 104,
     "metadata": {},
     "output_type": "execute_result"
    }
   ],
   "source": [
    "# Define the 3 point of a vector\n",
    "\n",
    "vA = np.array([-22.70,40.01,-20.55])\n",
    "vB = np.array([-23.32,42.79,-24.08])\n",
    "vC = np.array([-22.84,46.32,-21.29])\n",
    "\n",
    "\n",
    "calc_center(vA,vB,vC)"
   ]
  }
 ],
 "metadata": {
  "kernelspec": {
   "display_name": "Python 3",
   "language": "python",
   "name": "python3"
  },
  "language_info": {
   "codemirror_mode": {
    "name": "ipython",
    "version": 3
   },
   "file_extension": ".py",
   "mimetype": "text/x-python",
   "name": "python",
   "nbconvert_exporter": "python",
   "pygments_lexer": "ipython3",
   "version": "3.6.9"
  }
 },
 "nbformat": 4,
 "nbformat_minor": 2
}
